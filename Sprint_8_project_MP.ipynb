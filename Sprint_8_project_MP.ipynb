{
 "cells": [
  {
   "cell_type": "markdown",
   "metadata": {},
   "source": [
    "**Review**\n",
    "\n",
    "Hi, my name is Dmitry and I will be reviewing your project.\n",
    "  \n",
    "You can find my comments in colored markdown cells:\n",
    "  \n",
    "<div class=\"alert alert-success\">\n",
    "  If everything is done successfully.\n",
    "</div>\n",
    "  \n",
    "<div class=\"alert alert-warning\">\n",
    "  If I have some (optional) suggestions, or questions to think about, or general comments.\n",
    "</div>\n",
    "  \n",
    "<div class=\"alert alert-danger\">\n",
    "  If a section requires some corrections. Work can't be accepted with red comments.\n",
    "</div>\n",
    "  \n",
    "Please don't remove my comments, as it will make further review iterations much harder for me.\n",
    "  \n",
    "Feel free to reply to my comments or ask questions using the following template:\n",
    "  \n",
    "<div class=\"alert alert-info\">\n",
    "  For your comments and questions.\n",
    "</div>\n",
    "  \n",
    "First of all, thank you for turning in the project! You did an amazing job! I only had a couple of small suggestions for improvements you can find at the end of the notebook. The project is accepted. Keep up the great work on the next sprint! :)"
   ]
  },
  {
   "cell_type": "markdown",
   "metadata": {},
   "source": [
    "# Beta Banking"
   ]
  },
  {
   "cell_type": "markdown",
   "metadata": {},
   "source": [
    "## Library Initialization"
   ]
  },
  {
   "cell_type": "code",
   "execution_count": 1,
   "metadata": {},
   "outputs": [],
   "source": [
    "import pandas as pd\n",
    "from sklearn.metrics import accuracy_score, f1_score, r2_score, mean_squared_error\n",
    "from sklearn.metrics import confusion_matrix, mean_absolute_error, recall_score, precision_score\n",
    "from sklearn.metrics import roc_auc_score, roc_curve, precision_recall_curve\n",
    "from sklearn.model_selection import train_test_split, GridSearchCV\n",
    "from sklearn.preprocessing import OrdinalEncoder\n",
    "from sklearn.preprocessing import StandardScaler\n",
    "pd.options.mode.chained_assignment = None\n",
    "from sklearn.tree import DecisionTreeClassifier\n",
    "from sklearn.utils import shuffle\n",
    "from sklearn.ensemble import RandomForestRegressor, RandomForestClassifier\n",
    "import matplotlib.pyplot as plt\n",
    "import warnings\n",
    "warnings.filterwarnings('ignore')\n",
    "from IPython.display import clear_output"
   ]
  },
  {
   "cell_type": "markdown",
   "metadata": {},
   "source": [
    "## Extra Functions"
   ]
  },
  {
   "cell_type": "code",
   "execution_count": 2,
   "metadata": {},
   "outputs": [],
   "source": [
    "def upsample(features, target, repeat):\n",
    "    features_zeros = features[target == 0]\n",
    "    features_ones = features[target == 1]\n",
    "    target_zeros = target[target == 0]\n",
    "    target_ones = target[target == 1]\n",
    "\n",
    "    features_upsampled = pd.concat([features_zeros] + [features_ones] * repeat)\n",
    "    target_upsampled = pd.concat([target_zeros] + [target_ones] * repeat)\n",
    "\n",
    "    features_upsampled, target_upsampled = shuffle(\n",
    "        features_upsampled, target_upsampled, random_state=12345\n",
    "    )\n",
    "\n",
    "    return features_upsampled, target_upsampled"
   ]
  },
  {
   "cell_type": "markdown",
   "metadata": {},
   "source": [
    "Function useful if a model needs to be upsampled in the case that its recall score is too low."
   ]
  },
  {
   "cell_type": "code",
   "execution_count": 3,
   "metadata": {},
   "outputs": [],
   "source": [
    "def downsample(features, target, fraction):\n",
    "    features_zeros = features[target == 0]\n",
    "    features_ones = features[target == 1]\n",
    "    target_zeros = target[target == 0]\n",
    "    target_ones = target[target == 1]\n",
    "\n",
    "    features_downsampled = pd.concat(\n",
    "        [features_zeros.sample(frac=fraction, random_state=12345)]\n",
    "        + [features_ones]\n",
    "    )\n",
    "    target_downsampled = pd.concat(\n",
    "        [target_zeros.sample(frac=fraction, random_state=12345)]\n",
    "        + [target_ones]\n",
    "    )\n",
    "\n",
    "    features_downsampled, target_downsampled = shuffle(\n",
    "        features_downsampled, target_downsampled, random_state=12345\n",
    "    )\n",
    "\n",
    "    return features_downsampled, target_downsampled"
   ]
  },
  {
   "cell_type": "markdown",
   "metadata": {},
   "source": [
    "Function useful if a model needs to be downsampled in the case that its precision score is too low."
   ]
  },
  {
   "cell_type": "markdown",
   "metadata": {},
   "source": [
    "<div class=\"alert alert-success\">\n",
    "<b>Reviewer's comment</b>\n",
    "\n",
    "Upsampling and downsampling functions are correct!\n",
    "\n",
    "</div>"
   ]
  },
  {
   "cell_type": "code",
   "execution_count": 4,
   "metadata": {},
   "outputs": [],
   "source": [
    "def full_score_report(model, features, target, predictions):\n",
    "    accuracy = accuracy_score(target, predictions)\n",
    "    f1 = round(f1_score(target,predictions),3)\n",
    "    r2 = round(r2_score(target,predictions),3)\n",
    "    roc_auc = round(roc_auc_score(target,predictions),3)\n",
    "    matrix = confusion_matrix(target,predictions)\n",
    "    mse = round(mean_squared_error(target,predictions),3)\n",
    "    mae = round(mean_absolute_error(target,predictions),3)\n",
    "    recall = round(recall_score(target,predictions),3)\n",
    "    precision = round(precision_score(target,predictions),3)\n",
    "    probabilities = model.predict_proba(features)\n",
    "    probabilities_test = model.predict(features_test)\n",
    "    auc_roc = roc_auc_score(target_test, probabilities_test)\n",
    "    fpr, tpr, thresholds = roc_curve(target, probabilities[:,1])\n",
    "    plt.plot(fpr,tpr)\n",
    "    plt.xlim([0.0,1.0])\n",
    "    plt.ylim([0.0,1.0])\n",
    "    plt.xlabel('False Positive Rate')\n",
    "    plt.ylabel('True Positive Rate')\n",
    "    plt.title('ROC curve')\n",
    "    plt.show()\n",
    "    report = pd.DataFrame(data={\n",
    "        'accuracy':[accuracy],\n",
    "        'recall_score':[recall],\n",
    "        'precision':[precision],\n",
    "        'f1_score':[f1],\n",
    "        'r2_score':[r2],\n",
    "        'roc_auc':[roc_auc],\n",
    "        'confusion_matrix':[matrix],\n",
    "        'mean_squared_error':[mse],\n",
    "        'mean_absolute_error':[mae],\n",
    "        'roc_auc_score':[auc_roc]})\n",
    "    return report"
   ]
  },
  {
   "cell_type": "markdown",
   "metadata": {},
   "source": [
    "Function will be used to report the results of a model being tested. The metrics included are recall, precision, f1, r2, confused matrix, mean squared error, mean absolute error, auc_roc, thresholds, and a ROC curve. Since the models being tested are classified models, some of these metrics will not be very useful. "
   ]
  },
  {
   "cell_type": "markdown",
   "metadata": {},
   "source": [
    "<div class=\"alert alert-success\">\n",
    "<b>Reviewer's comment</b>\n",
    "\n",
    "Good idea to make a function calculating all needed metrics to reduce code duplication!\n",
    "\n",
    "</div>"
   ]
  },
  {
   "cell_type": "markdown",
   "metadata": {},
   "source": [
    "## Data Preprocessing"
   ]
  },
  {
   "cell_type": "code",
   "execution_count": 5,
   "metadata": {},
   "outputs": [],
   "source": [
    "data = pd.read_csv('Churn.csv')"
   ]
  },
  {
   "cell_type": "markdown",
   "metadata": {},
   "source": [
    "### EDA"
   ]
  },
  {
   "cell_type": "code",
   "execution_count": 6,
   "metadata": {},
   "outputs": [
    {
     "name": "stdout",
     "output_type": "stream",
     "text": [
      "<class 'pandas.core.frame.DataFrame'>\n",
      "RangeIndex: 10000 entries, 0 to 9999\n",
      "Data columns (total 14 columns):\n",
      " #   Column           Non-Null Count  Dtype  \n",
      "---  ------           --------------  -----  \n",
      " 0   RowNumber        10000 non-null  int64  \n",
      " 1   CustomerId       10000 non-null  int64  \n",
      " 2   Surname          10000 non-null  object \n",
      " 3   CreditScore      10000 non-null  int64  \n",
      " 4   Geography        10000 non-null  object \n",
      " 5   Gender           10000 non-null  object \n",
      " 6   Age              10000 non-null  int64  \n",
      " 7   Tenure           9091 non-null   float64\n",
      " 8   Balance          10000 non-null  float64\n",
      " 9   NumOfProducts    10000 non-null  int64  \n",
      " 10  HasCrCard        10000 non-null  int64  \n",
      " 11  IsActiveMember   10000 non-null  int64  \n",
      " 12  EstimatedSalary  10000 non-null  float64\n",
      " 13  Exited           10000 non-null  int64  \n",
      "dtypes: float64(3), int64(8), object(3)\n",
      "memory usage: 1.1+ MB\n"
     ]
    },
    {
     "data": {
      "text/plain": [
       "None"
      ]
     },
     "metadata": {},
     "output_type": "display_data"
    }
   ],
   "source": [
    "display(data.info())"
   ]
  },
  {
   "cell_type": "code",
   "execution_count": 7,
   "metadata": {},
   "outputs": [
    {
     "data": {
      "text/html": [
       "<div>\n",
       "<style scoped>\n",
       "    .dataframe tbody tr th:only-of-type {\n",
       "        vertical-align: middle;\n",
       "    }\n",
       "\n",
       "    .dataframe tbody tr th {\n",
       "        vertical-align: top;\n",
       "    }\n",
       "\n",
       "    .dataframe thead th {\n",
       "        text-align: right;\n",
       "    }\n",
       "</style>\n",
       "<table border=\"1\" class=\"dataframe\">\n",
       "  <thead>\n",
       "    <tr style=\"text-align: right;\">\n",
       "      <th></th>\n",
       "      <th>RowNumber</th>\n",
       "      <th>CustomerId</th>\n",
       "      <th>Surname</th>\n",
       "      <th>CreditScore</th>\n",
       "      <th>Geography</th>\n",
       "      <th>Gender</th>\n",
       "      <th>Age</th>\n",
       "      <th>Tenure</th>\n",
       "      <th>Balance</th>\n",
       "      <th>NumOfProducts</th>\n",
       "      <th>HasCrCard</th>\n",
       "      <th>IsActiveMember</th>\n",
       "      <th>EstimatedSalary</th>\n",
       "      <th>Exited</th>\n",
       "    </tr>\n",
       "  </thead>\n",
       "  <tbody>\n",
       "    <tr>\n",
       "      <th>9483</th>\n",
       "      <td>9484</td>\n",
       "      <td>15675983</td>\n",
       "      <td>Wood</td>\n",
       "      <td>692</td>\n",
       "      <td>France</td>\n",
       "      <td>Female</td>\n",
       "      <td>36</td>\n",
       "      <td>3.0</td>\n",
       "      <td>79551.12</td>\n",
       "      <td>1</td>\n",
       "      <td>0</td>\n",
       "      <td>1</td>\n",
       "      <td>178267.07</td>\n",
       "      <td>0</td>\n",
       "    </tr>\n",
       "    <tr>\n",
       "      <th>3817</th>\n",
       "      <td>3818</td>\n",
       "      <td>15724251</td>\n",
       "      <td>Todd</td>\n",
       "      <td>682</td>\n",
       "      <td>Germany</td>\n",
       "      <td>Female</td>\n",
       "      <td>29</td>\n",
       "      <td>6.0</td>\n",
       "      <td>101012.77</td>\n",
       "      <td>1</td>\n",
       "      <td>0</td>\n",
       "      <td>0</td>\n",
       "      <td>32589.89</td>\n",
       "      <td>1</td>\n",
       "    </tr>\n",
       "    <tr>\n",
       "      <th>2845</th>\n",
       "      <td>2846</td>\n",
       "      <td>15812513</td>\n",
       "      <td>Nnaife</td>\n",
       "      <td>599</td>\n",
       "      <td>Germany</td>\n",
       "      <td>Male</td>\n",
       "      <td>45</td>\n",
       "      <td>10.0</td>\n",
       "      <td>103583.05</td>\n",
       "      <td>1</td>\n",
       "      <td>1</td>\n",
       "      <td>0</td>\n",
       "      <td>132127.69</td>\n",
       "      <td>1</td>\n",
       "    </tr>\n",
       "    <tr>\n",
       "      <th>1839</th>\n",
       "      <td>1840</td>\n",
       "      <td>15761374</td>\n",
       "      <td>Bellucci</td>\n",
       "      <td>706</td>\n",
       "      <td>France</td>\n",
       "      <td>Male</td>\n",
       "      <td>54</td>\n",
       "      <td>9.0</td>\n",
       "      <td>117444.51</td>\n",
       "      <td>1</td>\n",
       "      <td>1</td>\n",
       "      <td>1</td>\n",
       "      <td>186238.85</td>\n",
       "      <td>0</td>\n",
       "    </tr>\n",
       "    <tr>\n",
       "      <th>9304</th>\n",
       "      <td>9305</td>\n",
       "      <td>15783589</td>\n",
       "      <td>Toscano</td>\n",
       "      <td>616</td>\n",
       "      <td>France</td>\n",
       "      <td>Male</td>\n",
       "      <td>40</td>\n",
       "      <td>9.0</td>\n",
       "      <td>0.00</td>\n",
       "      <td>2</td>\n",
       "      <td>0</td>\n",
       "      <td>0</td>\n",
       "      <td>93717.55</td>\n",
       "      <td>0</td>\n",
       "    </tr>\n",
       "  </tbody>\n",
       "</table>\n",
       "</div>"
      ],
      "text/plain": [
       "      RowNumber  CustomerId   Surname  CreditScore Geography  Gender  Age  \\\n",
       "9483       9484    15675983      Wood          692    France  Female   36   \n",
       "3817       3818    15724251      Todd          682   Germany  Female   29   \n",
       "2845       2846    15812513    Nnaife          599   Germany    Male   45   \n",
       "1839       1840    15761374  Bellucci          706    France    Male   54   \n",
       "9304       9305    15783589   Toscano          616    France    Male   40   \n",
       "\n",
       "      Tenure    Balance  NumOfProducts  HasCrCard  IsActiveMember  \\\n",
       "9483     3.0   79551.12              1          0               1   \n",
       "3817     6.0  101012.77              1          0               0   \n",
       "2845    10.0  103583.05              1          1               0   \n",
       "1839     9.0  117444.51              1          1               1   \n",
       "9304     9.0       0.00              2          0               0   \n",
       "\n",
       "      EstimatedSalary  Exited  \n",
       "9483        178267.07       0  \n",
       "3817         32589.89       1  \n",
       "2845        132127.69       1  \n",
       "1839        186238.85       0  \n",
       "9304         93717.55       0  "
      ]
     },
     "metadata": {},
     "output_type": "display_data"
    }
   ],
   "source": [
    "display(data.sample(5))"
   ]
  },
  {
   "cell_type": "code",
   "execution_count": 8,
   "metadata": {},
   "outputs": [
    {
     "data": {
      "text/plain": [
       "(10000, 14)"
      ]
     },
     "metadata": {},
     "output_type": "display_data"
    }
   ],
   "source": [
    "display(data.shape)"
   ]
  },
  {
   "cell_type": "markdown",
   "metadata": {},
   "source": [
    "<div class=\"alert alert-success\">\n",
    "<b>Reviewer's comment</b>\n",
    "\n",
    "The data was loaded and inspected!\n",
    "\n",
    "</div>"
   ]
  },
  {
   "cell_type": "code",
   "execution_count": 9,
   "metadata": {},
   "outputs": [
    {
     "data": {
      "text/html": [
       "<div>\n",
       "<style scoped>\n",
       "    .dataframe tbody tr th:only-of-type {\n",
       "        vertical-align: middle;\n",
       "    }\n",
       "\n",
       "    .dataframe tbody tr th {\n",
       "        vertical-align: top;\n",
       "    }\n",
       "\n",
       "    .dataframe thead th {\n",
       "        text-align: right;\n",
       "    }\n",
       "</style>\n",
       "<table border=\"1\" class=\"dataframe\">\n",
       "  <thead>\n",
       "    <tr style=\"text-align: right;\">\n",
       "      <th></th>\n",
       "      <th>row_number</th>\n",
       "      <th>customer_id</th>\n",
       "      <th>surname</th>\n",
       "      <th>credit_score</th>\n",
       "      <th>geography</th>\n",
       "      <th>gender</th>\n",
       "      <th>age</th>\n",
       "      <th>tenure</th>\n",
       "      <th>balance</th>\n",
       "      <th>num_of_products</th>\n",
       "      <th>has_credit_card</th>\n",
       "      <th>is_active_member</th>\n",
       "      <th>estimated_salary</th>\n",
       "      <th>exited</th>\n",
       "    </tr>\n",
       "  </thead>\n",
       "  <tbody>\n",
       "    <tr>\n",
       "      <th>8997</th>\n",
       "      <td>8998</td>\n",
       "      <td>15631063</td>\n",
       "      <td>Trentino</td>\n",
       "      <td>710</td>\n",
       "      <td>France</td>\n",
       "      <td>Female</td>\n",
       "      <td>33</td>\n",
       "      <td>NaN</td>\n",
       "      <td>0.00</td>\n",
       "      <td>2</td>\n",
       "      <td>1</td>\n",
       "      <td>0</td>\n",
       "      <td>72945.32</td>\n",
       "      <td>0</td>\n",
       "    </tr>\n",
       "    <tr>\n",
       "      <th>9330</th>\n",
       "      <td>9331</td>\n",
       "      <td>15780256</td>\n",
       "      <td>Palfreyman</td>\n",
       "      <td>630</td>\n",
       "      <td>France</td>\n",
       "      <td>Male</td>\n",
       "      <td>34</td>\n",
       "      <td>NaN</td>\n",
       "      <td>0.00</td>\n",
       "      <td>2</td>\n",
       "      <td>1</td>\n",
       "      <td>1</td>\n",
       "      <td>114006.35</td>\n",
       "      <td>0</td>\n",
       "    </tr>\n",
       "    <tr>\n",
       "      <th>4509</th>\n",
       "      <td>4510</td>\n",
       "      <td>15610930</td>\n",
       "      <td>Kwemto</td>\n",
       "      <td>572</td>\n",
       "      <td>Germany</td>\n",
       "      <td>Female</td>\n",
       "      <td>35</td>\n",
       "      <td>NaN</td>\n",
       "      <td>139979.07</td>\n",
       "      <td>1</td>\n",
       "      <td>1</td>\n",
       "      <td>0</td>\n",
       "      <td>185662.84</td>\n",
       "      <td>0</td>\n",
       "    </tr>\n",
       "    <tr>\n",
       "      <th>3067</th>\n",
       "      <td>3068</td>\n",
       "      <td>15579781</td>\n",
       "      <td>Buccho</td>\n",
       "      <td>806</td>\n",
       "      <td>Germany</td>\n",
       "      <td>Male</td>\n",
       "      <td>31</td>\n",
       "      <td>NaN</td>\n",
       "      <td>138653.51</td>\n",
       "      <td>1</td>\n",
       "      <td>1</td>\n",
       "      <td>0</td>\n",
       "      <td>190803.37</td>\n",
       "      <td>0</td>\n",
       "    </tr>\n",
       "    <tr>\n",
       "      <th>2373</th>\n",
       "      <td>2374</td>\n",
       "      <td>15671789</td>\n",
       "      <td>Woods</td>\n",
       "      <td>616</td>\n",
       "      <td>France</td>\n",
       "      <td>Male</td>\n",
       "      <td>31</td>\n",
       "      <td>NaN</td>\n",
       "      <td>94263.91</td>\n",
       "      <td>2</td>\n",
       "      <td>1</td>\n",
       "      <td>0</td>\n",
       "      <td>168895.06</td>\n",
       "      <td>0</td>\n",
       "    </tr>\n",
       "    <tr>\n",
       "      <th>8594</th>\n",
       "      <td>8595</td>\n",
       "      <td>15672930</td>\n",
       "      <td>Palerma</td>\n",
       "      <td>722</td>\n",
       "      <td>Spain</td>\n",
       "      <td>Male</td>\n",
       "      <td>37</td>\n",
       "      <td>NaN</td>\n",
       "      <td>0.00</td>\n",
       "      <td>2</td>\n",
       "      <td>1</td>\n",
       "      <td>0</td>\n",
       "      <td>31921.95</td>\n",
       "      <td>0</td>\n",
       "    </tr>\n",
       "    <tr>\n",
       "      <th>4808</th>\n",
       "      <td>4809</td>\n",
       "      <td>15610755</td>\n",
       "      <td>Napolitano</td>\n",
       "      <td>643</td>\n",
       "      <td>France</td>\n",
       "      <td>Female</td>\n",
       "      <td>33</td>\n",
       "      <td>NaN</td>\n",
       "      <td>137811.75</td>\n",
       "      <td>1</td>\n",
       "      <td>1</td>\n",
       "      <td>1</td>\n",
       "      <td>184856.89</td>\n",
       "      <td>0</td>\n",
       "    </tr>\n",
       "    <tr>\n",
       "      <th>3960</th>\n",
       "      <td>3961</td>\n",
       "      <td>15616811</td>\n",
       "      <td>MacDonald</td>\n",
       "      <td>535</td>\n",
       "      <td>France</td>\n",
       "      <td>Male</td>\n",
       "      <td>47</td>\n",
       "      <td>NaN</td>\n",
       "      <td>160729.10</td>\n",
       "      <td>1</td>\n",
       "      <td>0</td>\n",
       "      <td>1</td>\n",
       "      <td>145986.35</td>\n",
       "      <td>0</td>\n",
       "    </tr>\n",
       "    <tr>\n",
       "      <th>5469</th>\n",
       "      <td>5470</td>\n",
       "      <td>15678571</td>\n",
       "      <td>Barber</td>\n",
       "      <td>723</td>\n",
       "      <td>France</td>\n",
       "      <td>Male</td>\n",
       "      <td>21</td>\n",
       "      <td>NaN</td>\n",
       "      <td>0.00</td>\n",
       "      <td>2</td>\n",
       "      <td>0</td>\n",
       "      <td>0</td>\n",
       "      <td>24847.02</td>\n",
       "      <td>0</td>\n",
       "    </tr>\n",
       "    <tr>\n",
       "      <th>4878</th>\n",
       "      <td>4879</td>\n",
       "      <td>15579433</td>\n",
       "      <td>Pugh</td>\n",
       "      <td>793</td>\n",
       "      <td>Spain</td>\n",
       "      <td>Male</td>\n",
       "      <td>29</td>\n",
       "      <td>NaN</td>\n",
       "      <td>96674.55</td>\n",
       "      <td>2</td>\n",
       "      <td>0</td>\n",
       "      <td>0</td>\n",
       "      <td>192120.66</td>\n",
       "      <td>0</td>\n",
       "    </tr>\n",
       "  </tbody>\n",
       "</table>\n",
       "</div>"
      ],
      "text/plain": [
       "      row_number  customer_id     surname  credit_score geography  gender  \\\n",
       "8997        8998     15631063    Trentino           710    France  Female   \n",
       "9330        9331     15780256  Palfreyman           630    France    Male   \n",
       "4509        4510     15610930      Kwemto           572   Germany  Female   \n",
       "3067        3068     15579781      Buccho           806   Germany    Male   \n",
       "2373        2374     15671789       Woods           616    France    Male   \n",
       "8594        8595     15672930     Palerma           722     Spain    Male   \n",
       "4808        4809     15610755  Napolitano           643    France  Female   \n",
       "3960        3961     15616811   MacDonald           535    France    Male   \n",
       "5469        5470     15678571      Barber           723    France    Male   \n",
       "4878        4879     15579433        Pugh           793     Spain    Male   \n",
       "\n",
       "      age  tenure    balance  num_of_products  has_credit_card  \\\n",
       "8997   33     NaN       0.00                2                1   \n",
       "9330   34     NaN       0.00                2                1   \n",
       "4509   35     NaN  139979.07                1                1   \n",
       "3067   31     NaN  138653.51                1                1   \n",
       "2373   31     NaN   94263.91                2                1   \n",
       "8594   37     NaN       0.00                2                1   \n",
       "4808   33     NaN  137811.75                1                1   \n",
       "3960   47     NaN  160729.10                1                0   \n",
       "5469   21     NaN       0.00                2                0   \n",
       "4878   29     NaN   96674.55                2                0   \n",
       "\n",
       "      is_active_member  estimated_salary  exited  \n",
       "8997                 0          72945.32       0  \n",
       "9330                 1         114006.35       0  \n",
       "4509                 0         185662.84       0  \n",
       "3067                 0         190803.37       0  \n",
       "2373                 0         168895.06       0  \n",
       "8594                 0          31921.95       0  \n",
       "4808                 1         184856.89       0  \n",
       "3960                 1         145986.35       0  \n",
       "5469                 0          24847.02       0  \n",
       "4878                 0         192120.66       0  "
      ]
     },
     "metadata": {},
     "output_type": "display_data"
    }
   ],
   "source": [
    "new_columns = {'RowNumber':'row_number',\n",
    "          'CustomerId':'customer_id',\n",
    "          'Surname':'surname',\n",
    "          'CreditScore':'credit_score',\n",
    "          'Geography':'geography',\n",
    "          'Gender':'gender',\n",
    "          'Age':'age',\n",
    "          'Tenure':'tenure',\n",
    "          'Balance':'balance',\n",
    "          'NumOfProducts':'num_of_products',\n",
    "          'HasCrCard':'has_credit_card',\n",
    "          'IsActiveMember':'is_active_member',\n",
    "          'EstimatedSalary':'estimated_salary',\n",
    "          'Exited':'exited'}\n",
    "data = data.rename(columns=new_columns)\n",
    "display(data[data['tenure'].isna()].sample(10))"
   ]
  },
  {
   "cell_type": "code",
   "execution_count": 10,
   "metadata": {},
   "outputs": [
    {
     "data": {
      "text/plain": [
       "array([ 2.,  1.,  8.,  7.,  4.,  6.,  3., 10.,  5.,  9.,  0., nan])"
      ]
     },
     "metadata": {},
     "output_type": "display_data"
    }
   ],
   "source": [
    "display(data['tenure'].unique())"
   ]
  },
  {
   "cell_type": "code",
   "execution_count": 11,
   "metadata": {},
   "outputs": [
    {
     "name": "stdout",
     "output_type": "stream",
     "text": [
      "<class 'pandas.core.frame.DataFrame'>\n",
      "Int64Index: 9091 entries, 0 to 9998\n",
      "Data columns (total 14 columns):\n",
      " #   Column            Non-Null Count  Dtype  \n",
      "---  ------            --------------  -----  \n",
      " 0   row_number        9091 non-null   int64  \n",
      " 1   customer_id       9091 non-null   int64  \n",
      " 2   surname           9091 non-null   object \n",
      " 3   credit_score      9091 non-null   int64  \n",
      " 4   geography         9091 non-null   object \n",
      " 5   gender            9091 non-null   object \n",
      " 6   age               9091 non-null   int64  \n",
      " 7   tenure            9091 non-null   float64\n",
      " 8   balance           9091 non-null   float64\n",
      " 9   num_of_products   9091 non-null   int64  \n",
      " 10  has_credit_card   9091 non-null   int64  \n",
      " 11  is_active_member  9091 non-null   int64  \n",
      " 12  estimated_salary  9091 non-null   float64\n",
      " 13  exited            9091 non-null   int64  \n",
      "dtypes: float64(3), int64(8), object(3)\n",
      "memory usage: 1.0+ MB\n"
     ]
    },
    {
     "data": {
      "text/plain": [
       "None"
      ]
     },
     "metadata": {},
     "output_type": "display_data"
    }
   ],
   "source": [
    "data.dropna(subset=['tenure'], inplace=True)\n",
    "display(data.info())"
   ]
  },
  {
   "cell_type": "markdown",
   "metadata": {},
   "source": [
    "It is better for the integrity of the data to just remove the empty cells in tenure. Also, since removing these rows only removes about 9% of the data, the effects that will occur will be obsolete. There would be more of an effect on future tests to fill the empty values."
   ]
  },
  {
   "cell_type": "markdown",
   "metadata": {},
   "source": [
    "<div class=\"alert alert-warning\">\n",
    "<b>Reviewer's comment</b>\n",
    "\n",
    "Missing values were dealt with reasonably, although it would be nice to add some explanation of why it's ok to remove the rows with missing values\n",
    "\n",
    "</div>"
   ]
  },
  {
   "cell_type": "markdown",
   "metadata": {},
   "source": [
    "### Splitting Data"
   ]
  },
  {
   "cell_type": "code",
   "execution_count": 12,
   "metadata": {},
   "outputs": [],
   "source": [
    "data_ohe = pd.get_dummies(data.drop(['row_number', 'customer_id', 'surname'], axis=1), drop_first=True)\n",
    "random_state = 12345"
   ]
  },
  {
   "cell_type": "markdown",
   "metadata": {},
   "source": [
    "<div class=\"alert alert-success\">\n",
    "<b>Reviewer's comment</b>\n",
    "\n",
    "Ok, you dropped some identifiers useless for the models and encoded categorical features\n",
    "\n",
    "</div>"
   ]
  },
  {
   "cell_type": "code",
   "execution_count": 13,
   "metadata": {},
   "outputs": [
    {
     "data": {
      "text/plain": [
       "(9091, 12)"
      ]
     },
     "metadata": {},
     "output_type": "display_data"
    }
   ],
   "source": [
    "display(data_ohe.shape)"
   ]
  },
  {
   "cell_type": "code",
   "execution_count": 14,
   "metadata": {},
   "outputs": [],
   "source": [
    "features = data_ohe.drop(['exited'], axis=1)\n",
    "target = data_ohe['exited']"
   ]
  },
  {
   "cell_type": "code",
   "execution_count": 15,
   "metadata": {},
   "outputs": [],
   "source": [
    "features_train, features_valid, target_train, target_valid = train_test_split(\n",
    "features, target, test_size=0.2, random_state=random_state)"
   ]
  },
  {
   "cell_type": "code",
   "execution_count": 16,
   "metadata": {},
   "outputs": [],
   "source": [
    "features_train, features_test, target_train, target_test = train_test_split(\n",
    "features_train, target_train, test_size=0.25, random_state=random_state)"
   ]
  },
  {
   "cell_type": "markdown",
   "metadata": {},
   "source": [
    "<div class=\"alert alert-success\">\n",
    "<b>Reviewer's comment</b>\n",
    "\n",
    "The data was split into train, validation and test sets\n",
    "\n",
    "</div>"
   ]
  },
  {
   "cell_type": "code",
   "execution_count": 17,
   "metadata": {},
   "outputs": [
    {
     "data": {
      "text/plain": [
       "(5454,)"
      ]
     },
     "metadata": {},
     "output_type": "display_data"
    }
   ],
   "source": [
    "display(target_train.shape)"
   ]
  },
  {
   "cell_type": "code",
   "execution_count": 18,
   "metadata": {},
   "outputs": [
    {
     "data": {
      "text/plain": [
       "array([0, 1])"
      ]
     },
     "metadata": {},
     "output_type": "display_data"
    }
   ],
   "source": [
    "display(target_train.unique())"
   ]
  },
  {
   "cell_type": "markdown",
   "metadata": {},
   "source": [
    "### Scaling Numerical Data"
   ]
  },
  {
   "cell_type": "code",
   "execution_count": 19,
   "metadata": {},
   "outputs": [],
   "source": [
    "numeric = ['credit_score', 'age', 'tenure', \n",
    "           'balance', 'num_of_products', \n",
    "           'has_credit_card', 'is_active_member', \n",
    "           'estimated_salary']"
   ]
  },
  {
   "cell_type": "code",
   "execution_count": 20,
   "metadata": {},
   "outputs": [],
   "source": [
    "scaler = StandardScaler()\n",
    "scaler.fit(features_train[numeric])\n",
    "features_train[numeric] = scaler.transform(features_train[numeric])\n",
    "features_valid[numeric] = scaler.transform(features_valid[numeric])\n",
    "features_test[numeric] = scaler.transform(features_test[numeric])"
   ]
  },
  {
   "cell_type": "markdown",
   "metadata": {},
   "source": [
    "<div class=\"alert alert-success\">\n",
    "<b>Reviewer's comment</b>\n",
    "\n",
    "Scaling was applied correctly\n",
    "\n",
    "</div>"
   ]
  },
  {
   "cell_type": "code",
   "execution_count": 21,
   "metadata": {},
   "outputs": [
    {
     "data": {
      "text/plain": [
       "(5454, 11)"
      ]
     },
     "metadata": {},
     "output_type": "display_data"
    }
   ],
   "source": [
    "display(features_train.shape)"
   ]
  },
  {
   "cell_type": "code",
   "execution_count": 22,
   "metadata": {},
   "outputs": [
    {
     "data": {
      "text/plain": [
       "(1819, 11)"
      ]
     },
     "metadata": {},
     "output_type": "display_data"
    }
   ],
   "source": [
    "display(features_valid.shape)"
   ]
  },
  {
   "cell_type": "code",
   "execution_count": 23,
   "metadata": {},
   "outputs": [
    {
     "data": {
      "text/plain": [
       "(1818, 11)"
      ]
     },
     "metadata": {},
     "output_type": "display_data"
    }
   ],
   "source": [
    "display(features_test.shape)"
   ]
  },
  {
   "cell_type": "markdown",
   "metadata": {},
   "source": [
    "## Building Models"
   ]
  },
  {
   "cell_type": "code",
   "execution_count": 24,
   "metadata": {},
   "outputs": [],
   "source": [
    "dtc_parameters = {\n",
    "\"random_state\":[random_state],\n",
    "\"max_depth\":[*range(1,11,1)],\n",
    "\"min_samples_split\":[*range(1,11,1)],\n",
    "\"min_samples_leaf\":[*range(1,11,1)],\n",
    "\"class_weight\":['balanced']}"
   ]
  },
  {
   "cell_type": "code",
   "execution_count": 25,
   "metadata": {},
   "outputs": [],
   "source": [
    "rfr_parameters = {\n",
    "\"random_state\":[random_state],\n",
    "\"n_estimators\":[*range(1,21,1)],\n",
    "\"max_depth\":[*range(1,21,1)],\n",
    "\"class_weight\":['balanced']}"
   ]
  },
  {
   "cell_type": "markdown",
   "metadata": {},
   "source": [
    "#### Training"
   ]
  },
  {
   "cell_type": "code",
   "execution_count": 26,
   "metadata": {},
   "outputs": [],
   "source": [
    "rfr_model = GridSearchCV(RandomForestClassifier(), rfr_parameters, cv=5).fit(features_train, target_train)"
   ]
  },
  {
   "cell_type": "code",
   "execution_count": 27,
   "metadata": {},
   "outputs": [],
   "source": [
    "dtc_model = GridSearchCV(DecisionTreeClassifier(), dtc_parameters, cv=5).fit(features_train, target_train)"
   ]
  },
  {
   "cell_type": "code",
   "execution_count": 28,
   "metadata": {},
   "outputs": [
    {
     "data": {
      "text/plain": [
       "{'class_weight': 'balanced',\n",
       " 'max_depth': 17,\n",
       " 'n_estimators': 19,\n",
       " 'random_state': 12345}"
      ]
     },
     "metadata": {},
     "output_type": "display_data"
    }
   ],
   "source": [
    "display(rfr_model.best_params_)"
   ]
  },
  {
   "cell_type": "code",
   "execution_count": 29,
   "metadata": {},
   "outputs": [
    {
     "data": {
      "text/plain": [
       "{'class_weight': 'balanced',\n",
       " 'max_depth': 5,\n",
       " 'min_samples_leaf': 6,\n",
       " 'min_samples_split': 2,\n",
       " 'random_state': 12345}"
      ]
     },
     "metadata": {},
     "output_type": "display_data"
    }
   ],
   "source": [
    "display(dtc_model.best_params_)"
   ]
  },
  {
   "cell_type": "markdown",
   "metadata": {},
   "source": [
    "Initially searching for the most accurate and effective parameters first to have the best model to start testing."
   ]
  },
  {
   "cell_type": "markdown",
   "metadata": {},
   "source": [
    "<div class=\"alert alert-success\">\n",
    "<b>Reviewer's comment</b>\n",
    "\n",
    "It's cool that you used a cross-validated grid search to tune the models' hyperparameters\n",
    "\n",
    "</div>"
   ]
  },
  {
   "cell_type": "markdown",
   "metadata": {},
   "source": [
    "#### Initial Valid Predictions"
   ]
  },
  {
   "cell_type": "code",
   "execution_count": 30,
   "metadata": {},
   "outputs": [],
   "source": [
    "rfr_predict_valid = rfr_model.predict(features_valid)"
   ]
  },
  {
   "cell_type": "code",
   "execution_count": 31,
   "metadata": {},
   "outputs": [],
   "source": [
    "dtc_predict_valid = dtc_model.predict(features_valid)"
   ]
  },
  {
   "cell_type": "code",
   "execution_count": 32,
   "metadata": {},
   "outputs": [
    {
     "data": {
      "image/png": "[encoded data removed]",
      "text/plain": [
       "<Figure size 432x288 with 1 Axes>"
      ]
     },
     "metadata": {
      "needs_background": "light"
     },
     "output_type": "display_data"
    },
    {
     "data": {
      "text/html": [
       "<div>\n",
       "<style scoped>\n",
       "    .dataframe tbody tr th:only-of-type {\n",
       "        vertical-align: middle;\n",
       "    }\n",
       "\n",
       "    .dataframe tbody tr th {\n",
       "        vertical-align: top;\n",
       "    }\n",
       "\n",
       "    .dataframe thead th {\n",
       "        text-align: right;\n",
       "    }\n",
       "</style>\n",
       "<table border=\"1\" class=\"dataframe\">\n",
       "  <thead>\n",
       "    <tr style=\"text-align: right;\">\n",
       "      <th></th>\n",
       "      <th>accuracy</th>\n",
       "      <th>recall_score</th>\n",
       "      <th>precision</th>\n",
       "      <th>f1_score</th>\n",
       "      <th>r2_score</th>\n",
       "      <th>roc_auc</th>\n",
       "      <th>confusion_matrix</th>\n",
       "      <th>mean_squared_error</th>\n",
       "      <th>mean_absolute_error</th>\n",
       "      <th>roc_auc_score</th>\n",
       "    </tr>\n",
       "  </thead>\n",
       "  <tbody>\n",
       "    <tr>\n",
       "      <th>0</th>\n",
       "      <td>0.853766</td>\n",
       "      <td>0.428</td>\n",
       "      <td>0.742</td>\n",
       "      <td>0.543</td>\n",
       "      <td>0.096</td>\n",
       "      <td>0.695</td>\n",
       "      <td>[[1395, 55], [211, 158]]</td>\n",
       "      <td>0.146</td>\n",
       "      <td>0.146</td>\n",
       "      <td>0.688355</td>\n",
       "    </tr>\n",
       "  </tbody>\n",
       "</table>\n",
       "</div>"
      ],
      "text/plain": [
       "   accuracy  recall_score  precision  f1_score  r2_score  roc_auc  \\\n",
       "0  0.853766         0.428      0.742     0.543     0.096    0.695   \n",
       "\n",
       "           confusion_matrix  mean_squared_error  mean_absolute_error  \\\n",
       "0  [[1395, 55], [211, 158]]               0.146                0.146   \n",
       "\n",
       "   roc_auc_score  \n",
       "0       0.688355  "
      ]
     },
     "metadata": {},
     "output_type": "display_data"
    }
   ],
   "source": [
    "display(full_score_report(model=rfr_model,features=features_valid,target=target_valid, predictions=rfr_predict_valid))"
   ]
  },
  {
   "cell_type": "code",
   "execution_count": 33,
   "metadata": {},
   "outputs": [
    {
     "data": {
      "image/png": "[encoded data removed]",
      "text/plain": [
       "<Figure size 432x288 with 1 Axes>"
      ]
     },
     "metadata": {
      "needs_background": "light"
     },
     "output_type": "display_data"
    },
    {
     "data": {
      "text/html": [
       "<div>\n",
       "<style scoped>\n",
       "    .dataframe tbody tr th:only-of-type {\n",
       "        vertical-align: middle;\n",
       "    }\n",
       "\n",
       "    .dataframe tbody tr th {\n",
       "        vertical-align: top;\n",
       "    }\n",
       "\n",
       "    .dataframe thead th {\n",
       "        text-align: right;\n",
       "    }\n",
       "</style>\n",
       "<table border=\"1\" class=\"dataframe\">\n",
       "  <thead>\n",
       "    <tr style=\"text-align: right;\">\n",
       "      <th></th>\n",
       "      <th>accuracy</th>\n",
       "      <th>recall_score</th>\n",
       "      <th>precision</th>\n",
       "      <th>f1_score</th>\n",
       "      <th>r2_score</th>\n",
       "      <th>roc_auc</th>\n",
       "      <th>confusion_matrix</th>\n",
       "      <th>mean_squared_error</th>\n",
       "      <th>mean_absolute_error</th>\n",
       "      <th>roc_auc_score</th>\n",
       "    </tr>\n",
       "  </thead>\n",
       "  <tbody>\n",
       "    <tr>\n",
       "      <th>0</th>\n",
       "      <td>0.771853</td>\n",
       "      <td>0.667</td>\n",
       "      <td>0.457</td>\n",
       "      <td>0.542</td>\n",
       "      <td>-0.411</td>\n",
       "      <td>0.733</td>\n",
       "      <td>[[1158, 292], [123, 246]]</td>\n",
       "      <td>0.228</td>\n",
       "      <td>0.228</td>\n",
       "      <td>0.734126</td>\n",
       "    </tr>\n",
       "  </tbody>\n",
       "</table>\n",
       "</div>"
      ],
      "text/plain": [
       "   accuracy  recall_score  precision  f1_score  r2_score  roc_auc  \\\n",
       "0  0.771853         0.667      0.457     0.542    -0.411    0.733   \n",
       "\n",
       "            confusion_matrix  mean_squared_error  mean_absolute_error  \\\n",
       "0  [[1158, 292], [123, 246]]               0.228                0.228   \n",
       "\n",
       "   roc_auc_score  \n",
       "0       0.734126  "
      ]
     },
     "metadata": {},
     "output_type": "display_data"
    }
   ],
   "source": [
    "display(full_score_report(model=dtc_model, features=features_valid, target=target_valid, predictions=dtc_predict_valid))"
   ]
  },
  {
   "cell_type": "markdown",
   "metadata": {},
   "source": [
    "Initial valid f1 scores for both models are right at 0.54. However, both models got these scores in opposite ways. The decision tree classifier had high recall score and low precision which means it needs higher precision which calls for a need of downsampling to increase precision. However, the random forest has low recall and high precision. This model would benefit more from upsampling to increase recall. I will be experimenting with upsampling and downsampling both models though to find all possible model improvements since 0.54 is still not a great score regardless."
   ]
  },
  {
   "cell_type": "markdown",
   "metadata": {},
   "source": [
    "<div class=\"alert alert-success\">\n",
    "<b>Reviewer's comment</b>\n",
    "\n",
    "Great, you trained a couple of models without taking the imbalance into account first. Nice analysis of the results!\n",
    "\n",
    "</div>"
   ]
  },
  {
   "cell_type": "markdown",
   "metadata": {},
   "source": [
    "#### Upsampling"
   ]
  },
  {
   "cell_type": "code",
   "execution_count": 34,
   "metadata": {},
   "outputs": [],
   "source": [
    "recall_scores = []\n",
    "precision_scores = []\n",
    "best_up_samp_rfr = 0\n",
    "best_up_samp_dtc = 0\n",
    "best_f1_rfr = 0\n",
    "best_f1_dtc = 0"
   ]
  },
  {
   "cell_type": "code",
   "execution_count": 35,
   "metadata": {},
   "outputs": [
    {
     "data": {
      "image/png": "[encoded data removed]",
      "text/plain": [
       "<Figure size 432x288 with 1 Axes>"
      ]
     },
     "metadata": {
      "needs_background": "light"
     },
     "output_type": "display_data"
    },
    {
     "data": {
      "text/html": [
       "<div>\n",
       "<style scoped>\n",
       "    .dataframe tbody tr th:only-of-type {\n",
       "        vertical-align: middle;\n",
       "    }\n",
       "\n",
       "    .dataframe tbody tr th {\n",
       "        vertical-align: top;\n",
       "    }\n",
       "\n",
       "    .dataframe thead th {\n",
       "        text-align: right;\n",
       "    }\n",
       "</style>\n",
       "<table border=\"1\" class=\"dataframe\">\n",
       "  <thead>\n",
       "    <tr style=\"text-align: right;\">\n",
       "      <th></th>\n",
       "      <th>accuracy</th>\n",
       "      <th>recall_score</th>\n",
       "      <th>precision</th>\n",
       "      <th>f1_score</th>\n",
       "      <th>r2_score</th>\n",
       "      <th>roc_auc</th>\n",
       "      <th>confusion_matrix</th>\n",
       "      <th>mean_squared_error</th>\n",
       "      <th>mean_absolute_error</th>\n",
       "      <th>roc_auc_score</th>\n",
       "    </tr>\n",
       "  </thead>\n",
       "  <tbody>\n",
       "    <tr>\n",
       "      <th>0</th>\n",
       "      <td>0.847719</td>\n",
       "      <td>0.558</td>\n",
       "      <td>0.644</td>\n",
       "      <td>0.598</td>\n",
       "      <td>0.058</td>\n",
       "      <td>0.74</td>\n",
       "      <td>[[1336, 114], [163, 206]]</td>\n",
       "      <td>0.152</td>\n",
       "      <td>0.152</td>\n",
       "      <td>0.723705</td>\n",
       "    </tr>\n",
       "  </tbody>\n",
       "</table>\n",
       "</div>"
      ],
      "text/plain": [
       "   accuracy  recall_score  precision  f1_score  r2_score  roc_auc  \\\n",
       "0  0.847719         0.558      0.644     0.598     0.058     0.74   \n",
       "\n",
       "            confusion_matrix  mean_squared_error  mean_absolute_error  \\\n",
       "0  [[1336, 114], [163, 206]]               0.152                0.152   \n",
       "\n",
       "   roc_auc_score  \n",
       "0       0.723705  "
      ]
     },
     "metadata": {},
     "output_type": "display_data"
    },
    {
     "data": {
      "text/plain": [
       "'Random Forest Upsample Repetitions:9'"
      ]
     },
     "metadata": {},
     "output_type": "display_data"
    },
    {
     "data": {
      "image/png": "[encoded data removed]",
      "text/plain": [
       "<Figure size 432x288 with 1 Axes>"
      ]
     },
     "metadata": {
      "needs_background": "light"
     },
     "output_type": "display_data"
    },
    {
     "data": {
      "text/html": [
       "<div>\n",
       "<style scoped>\n",
       "    .dataframe tbody tr th:only-of-type {\n",
       "        vertical-align: middle;\n",
       "    }\n",
       "\n",
       "    .dataframe tbody tr th {\n",
       "        vertical-align: top;\n",
       "    }\n",
       "\n",
       "    .dataframe thead th {\n",
       "        text-align: right;\n",
       "    }\n",
       "</style>\n",
       "<table border=\"1\" class=\"dataframe\">\n",
       "  <thead>\n",
       "    <tr style=\"text-align: right;\">\n",
       "      <th></th>\n",
       "      <th>accuracy</th>\n",
       "      <th>recall_score</th>\n",
       "      <th>precision</th>\n",
       "      <th>f1_score</th>\n",
       "      <th>r2_score</th>\n",
       "      <th>roc_auc</th>\n",
       "      <th>confusion_matrix</th>\n",
       "      <th>mean_squared_error</th>\n",
       "      <th>mean_absolute_error</th>\n",
       "      <th>roc_auc_score</th>\n",
       "    </tr>\n",
       "  </thead>\n",
       "  <tbody>\n",
       "    <tr>\n",
       "      <th>0</th>\n",
       "      <td>0.772402</td>\n",
       "      <td>0.667</td>\n",
       "      <td>0.458</td>\n",
       "      <td>0.543</td>\n",
       "      <td>-0.407</td>\n",
       "      <td>0.733</td>\n",
       "      <td>[[1159, 291], [123, 246]]</td>\n",
       "      <td>0.228</td>\n",
       "      <td>0.228</td>\n",
       "      <td>0.729683</td>\n",
       "    </tr>\n",
       "  </tbody>\n",
       "</table>\n",
       "</div>"
      ],
      "text/plain": [
       "   accuracy  recall_score  precision  f1_score  r2_score  roc_auc  \\\n",
       "0  0.772402         0.667      0.458     0.543    -0.407    0.733   \n",
       "\n",
       "            confusion_matrix  mean_squared_error  mean_absolute_error  \\\n",
       "0  [[1159, 291], [123, 246]]               0.228                0.228   \n",
       "\n",
       "   roc_auc_score  \n",
       "0       0.729683  "
      ]
     },
     "metadata": {},
     "output_type": "display_data"
    },
    {
     "data": {
      "text/plain": [
       "'Decision Tree Upsample Repetitions:9'"
      ]
     },
     "metadata": {},
     "output_type": "display_data"
    },
    {
     "data": {
      "image/png": "[encoded data removed]",
      "text/plain": [
       "<Figure size 432x288 with 1 Axes>"
      ]
     },
     "metadata": {
      "needs_background": "light"
     },
     "output_type": "display_data"
    },
    {
     "data": {
      "text/html": [
       "<div>\n",
       "<style scoped>\n",
       "    .dataframe tbody tr th:only-of-type {\n",
       "        vertical-align: middle;\n",
       "    }\n",
       "\n",
       "    .dataframe tbody tr th {\n",
       "        vertical-align: top;\n",
       "    }\n",
       "\n",
       "    .dataframe thead th {\n",
       "        text-align: right;\n",
       "    }\n",
       "</style>\n",
       "<table border=\"1\" class=\"dataframe\">\n",
       "  <thead>\n",
       "    <tr style=\"text-align: right;\">\n",
       "      <th></th>\n",
       "      <th>accuracy</th>\n",
       "      <th>recall_score</th>\n",
       "      <th>precision</th>\n",
       "      <th>f1_score</th>\n",
       "      <th>r2_score</th>\n",
       "      <th>roc_auc</th>\n",
       "      <th>confusion_matrix</th>\n",
       "      <th>mean_squared_error</th>\n",
       "      <th>mean_absolute_error</th>\n",
       "      <th>roc_auc_score</th>\n",
       "    </tr>\n",
       "  </thead>\n",
       "  <tbody>\n",
       "    <tr>\n",
       "      <th>0</th>\n",
       "      <td>0.84497</td>\n",
       "      <td>0.575</td>\n",
       "      <td>0.629</td>\n",
       "      <td>0.601</td>\n",
       "      <td>0.041</td>\n",
       "      <td>0.744</td>\n",
       "      <td>[[1325, 125], [157, 212]]</td>\n",
       "      <td>0.155</td>\n",
       "      <td>0.155</td>\n",
       "      <td>0.73298</td>\n",
       "    </tr>\n",
       "  </tbody>\n",
       "</table>\n",
       "</div>"
      ],
      "text/plain": [
       "   accuracy  recall_score  precision  f1_score  r2_score  roc_auc  \\\n",
       "0   0.84497         0.575      0.629     0.601     0.041    0.744   \n",
       "\n",
       "            confusion_matrix  mean_squared_error  mean_absolute_error  \\\n",
       "0  [[1325, 125], [157, 212]]               0.155                0.155   \n",
       "\n",
       "   roc_auc_score  \n",
       "0        0.73298  "
      ]
     },
     "metadata": {},
     "output_type": "display_data"
    },
    {
     "data": {
      "text/plain": [
       "'Random Forest Upsample Repetitions:12'"
      ]
     },
     "metadata": {},
     "output_type": "display_data"
    },
    {
     "data": {
      "image/png": "[encoded data removed]",
      "text/plain": [
       "<Figure size 432x288 with 1 Axes>"
      ]
     },
     "metadata": {
      "needs_background": "light"
     },
     "output_type": "display_data"
    },
    {
     "data": {
      "text/html": [
       "<div>\n",
       "<style scoped>\n",
       "    .dataframe tbody tr th:only-of-type {\n",
       "        vertical-align: middle;\n",
       "    }\n",
       "\n",
       "    .dataframe tbody tr th {\n",
       "        vertical-align: top;\n",
       "    }\n",
       "\n",
       "    .dataframe thead th {\n",
       "        text-align: right;\n",
       "    }\n",
       "</style>\n",
       "<table border=\"1\" class=\"dataframe\">\n",
       "  <thead>\n",
       "    <tr style=\"text-align: right;\">\n",
       "      <th></th>\n",
       "      <th>accuracy</th>\n",
       "      <th>recall_score</th>\n",
       "      <th>precision</th>\n",
       "      <th>f1_score</th>\n",
       "      <th>r2_score</th>\n",
       "      <th>roc_auc</th>\n",
       "      <th>confusion_matrix</th>\n",
       "      <th>mean_squared_error</th>\n",
       "      <th>mean_absolute_error</th>\n",
       "      <th>roc_auc_score</th>\n",
       "    </tr>\n",
       "  </thead>\n",
       "  <tbody>\n",
       "    <tr>\n",
       "      <th>0</th>\n",
       "      <td>0.849918</td>\n",
       "      <td>0.566</td>\n",
       "      <td>0.649</td>\n",
       "      <td>0.605</td>\n",
       "      <td>0.072</td>\n",
       "      <td>0.744</td>\n",
       "      <td>[[1337, 113], [160, 209]]</td>\n",
       "      <td>0.15</td>\n",
       "      <td>0.15</td>\n",
       "      <td>0.733623</td>\n",
       "    </tr>\n",
       "  </tbody>\n",
       "</table>\n",
       "</div>"
      ],
      "text/plain": [
       "   accuracy  recall_score  precision  f1_score  r2_score  roc_auc  \\\n",
       "0  0.849918         0.566      0.649     0.605     0.072    0.744   \n",
       "\n",
       "            confusion_matrix  mean_squared_error  mean_absolute_error  \\\n",
       "0  [[1337, 113], [160, 209]]                0.15                 0.15   \n",
       "\n",
       "   roc_auc_score  \n",
       "0       0.733623  "
      ]
     },
     "metadata": {},
     "output_type": "display_data"
    },
    {
     "data": {
      "text/plain": [
       "'Random Forest Upsample Repetitions:20'"
      ]
     },
     "metadata": {},
     "output_type": "display_data"
    }
   ],
   "source": [
    "for upsamp in range(1,21,1):\n",
    "    rfr_model_up = RandomForestClassifier(**rfr_model.best_params_)\n",
    "    dtc_model_up = DecisionTreeClassifier(**dtc_model.best_params_)\n",
    "    features_up_sample, target_up_sample = upsample(\n",
    "    features_train, target_train, upsamp)\n",
    "\n",
    "    rfr_model_up.fit(features_up_sample, target_up_sample)\n",
    "    dtc_model_up.fit(features_up_sample, target_up_sample)\n",
    "    rfr_predict_valid = rfr_model_up.predict(features_valid)\n",
    "    dtc_predict_valid = dtc_model_up.predict(features_valid)\n",
    "\n",
    "    if(((f1_score(target_valid,rfr_predict_valid) > best_f1_rfr) and (f1_score(target_valid,rfr_predict_valid) > 0.59)) or ((f1_score(target_valid,dtc_predict_valid) > best_f1_dtc) and (f1_score(target_valid,dtc_predict_valid) > 0.59))):\n",
    "        clear_output(wait=True)\n",
    "        if(f1_score(target_valid,rfr_predict_valid) > best_f1_rfr):\n",
    "            best_f1_rfr = f1_score(target_valid,rfr_predict_valid)        \n",
    "            display(full_score_report(model=rfr_model_up, features=features_valid, target=target_valid, predictions=rfr_predict_valid))\n",
    "            display('Random Forest Upsample Repetitions:' + str(upsamp))\n",
    "            best_up_samp_rfr = upsamp\n",
    "        if(f1_score(target_valid,dtc_predict_valid) > best_f1_dtc):\n",
    "            best_f1_dtc = f1_score(target_valid,dtc_predict_valid)\n",
    "            display(full_score_report(model=dtc_model_up, features=features_valid, target=target_valid, predictions=dtc_predict_valid))\n",
    "            display('Decision Tree Upsample Repetitions:' + str(upsamp))\n",
    "            best_up_samp_dtc = upsamp"
   ]
  },
  {
   "cell_type": "code",
   "execution_count": 36,
   "metadata": {},
   "outputs": [
    {
     "data": {
      "text/plain": [
       "'Best upsample repetitions for Random Forest:20'"
      ]
     },
     "metadata": {},
     "output_type": "display_data"
    }
   ],
   "source": [
    "display('Best upsample repetitions for Random Forest:' + str(best_up_samp_rfr))"
   ]
  },
  {
   "cell_type": "code",
   "execution_count": 37,
   "metadata": {},
   "outputs": [
    {
     "data": {
      "text/plain": [
       "'Best upsample repetitions for Decision Tree:9'"
      ]
     },
     "metadata": {},
     "output_type": "display_data"
    }
   ],
   "source": [
    "display('Best upsample repetitions for Decision Tree:' + str(best_up_samp_dtc))"
   ]
  },
  {
   "cell_type": "code",
   "execution_count": 38,
   "metadata": {},
   "outputs": [],
   "source": [
    "rfr_test = RandomForestClassifier(**rfr_model.best_params_)\n",
    "dtc_test = DecisionTreeClassifier(**dtc_model.best_params_)"
   ]
  },
  {
   "cell_type": "code",
   "execution_count": 39,
   "metadata": {},
   "outputs": [],
   "source": [
    "features_up_sample_rfr, target_up_sample_rfr = upsample(\n",
    "    features_train, target_train, best_up_samp_rfr)"
   ]
  },
  {
   "cell_type": "code",
   "execution_count": 40,
   "metadata": {},
   "outputs": [],
   "source": [
    "features_up_sample_dtc, target_up_sample_dtc = upsample(\n",
    "    features_train, target_train, best_up_samp_dtc)"
   ]
  },
  {
   "cell_type": "code",
   "execution_count": 41,
   "metadata": {},
   "outputs": [],
   "source": [
    "rfr_test.fit(features_up_sample_rfr, target_up_sample_rfr)\n",
    "rfr_predict_test = rfr_test.predict(features_test)"
   ]
  },
  {
   "cell_type": "code",
   "execution_count": 42,
   "metadata": {},
   "outputs": [],
   "source": [
    "dtc_test.fit(features_up_sample_dtc, target_up_sample_dtc)\n",
    "dtc_predict_test = dtc_test.predict(features_test)"
   ]
  },
  {
   "cell_type": "code",
   "execution_count": 43,
   "metadata": {},
   "outputs": [
    {
     "data": {
      "image/png": "[encoded data removed]",
      "text/plain": [
       "<Figure size 432x288 with 1 Axes>"
      ]
     },
     "metadata": {
      "needs_background": "light"
     },
     "output_type": "display_data"
    },
    {
     "data": {
      "text/html": [
       "<div>\n",
       "<style scoped>\n",
       "    .dataframe tbody tr th:only-of-type {\n",
       "        vertical-align: middle;\n",
       "    }\n",
       "\n",
       "    .dataframe tbody tr th {\n",
       "        vertical-align: top;\n",
       "    }\n",
       "\n",
       "    .dataframe thead th {\n",
       "        text-align: right;\n",
       "    }\n",
       "</style>\n",
       "<table border=\"1\" class=\"dataframe\">\n",
       "  <thead>\n",
       "    <tr style=\"text-align: right;\">\n",
       "      <th></th>\n",
       "      <th>accuracy</th>\n",
       "      <th>recall_score</th>\n",
       "      <th>precision</th>\n",
       "      <th>f1_score</th>\n",
       "      <th>r2_score</th>\n",
       "      <th>roc_auc</th>\n",
       "      <th>confusion_matrix</th>\n",
       "      <th>mean_squared_error</th>\n",
       "      <th>mean_absolute_error</th>\n",
       "      <th>roc_auc_score</th>\n",
       "    </tr>\n",
       "  </thead>\n",
       "  <tbody>\n",
       "    <tr>\n",
       "      <th>0</th>\n",
       "      <td>0.845435</td>\n",
       "      <td>0.546</td>\n",
       "      <td>0.635</td>\n",
       "      <td>0.587</td>\n",
       "      <td>0.039</td>\n",
       "      <td>0.734</td>\n",
       "      <td>[[1337, 115], [166, 200]]</td>\n",
       "      <td>0.155</td>\n",
       "      <td>0.155</td>\n",
       "      <td>0.733623</td>\n",
       "    </tr>\n",
       "  </tbody>\n",
       "</table>\n",
       "</div>"
      ],
      "text/plain": [
       "   accuracy  recall_score  precision  f1_score  r2_score  roc_auc  \\\n",
       "0  0.845435         0.546      0.635     0.587     0.039    0.734   \n",
       "\n",
       "            confusion_matrix  mean_squared_error  mean_absolute_error  \\\n",
       "0  [[1337, 115], [166, 200]]               0.155                0.155   \n",
       "\n",
       "   roc_auc_score  \n",
       "0       0.733623  "
      ]
     },
     "metadata": {},
     "output_type": "display_data"
    }
   ],
   "source": [
    "display(full_score_report(model=rfr_test, features=features_test, target=target_test, predictions=rfr_predict_test))"
   ]
  },
  {
   "cell_type": "code",
   "execution_count": 44,
   "metadata": {},
   "outputs": [
    {
     "data": {
      "image/png": "[encoded data removed]",
      "text/plain": [
       "<Figure size 432x288 with 1 Axes>"
      ]
     },
     "metadata": {
      "needs_background": "light"
     },
     "output_type": "display_data"
    },
    {
     "data": {
      "text/html": [
       "<div>\n",
       "<style scoped>\n",
       "    .dataframe tbody tr th:only-of-type {\n",
       "        vertical-align: middle;\n",
       "    }\n",
       "\n",
       "    .dataframe tbody tr th {\n",
       "        vertical-align: top;\n",
       "    }\n",
       "\n",
       "    .dataframe thead th {\n",
       "        text-align: right;\n",
       "    }\n",
       "</style>\n",
       "<table border=\"1\" class=\"dataframe\">\n",
       "  <thead>\n",
       "    <tr style=\"text-align: right;\">\n",
       "      <th></th>\n",
       "      <th>accuracy</th>\n",
       "      <th>recall_score</th>\n",
       "      <th>precision</th>\n",
       "      <th>f1_score</th>\n",
       "      <th>r2_score</th>\n",
       "      <th>roc_auc</th>\n",
       "      <th>confusion_matrix</th>\n",
       "      <th>mean_squared_error</th>\n",
       "      <th>mean_absolute_error</th>\n",
       "      <th>roc_auc_score</th>\n",
       "    </tr>\n",
       "  </thead>\n",
       "  <tbody>\n",
       "    <tr>\n",
       "      <th>0</th>\n",
       "      <td>0.767327</td>\n",
       "      <td>0.667</td>\n",
       "      <td>0.448</td>\n",
       "      <td>0.536</td>\n",
       "      <td>-0.447</td>\n",
       "      <td>0.73</td>\n",
       "      <td>[[1151, 301], [122, 244]]</td>\n",
       "      <td>0.233</td>\n",
       "      <td>0.233</td>\n",
       "      <td>0.729683</td>\n",
       "    </tr>\n",
       "  </tbody>\n",
       "</table>\n",
       "</div>"
      ],
      "text/plain": [
       "   accuracy  recall_score  precision  f1_score  r2_score  roc_auc  \\\n",
       "0  0.767327         0.667      0.448     0.536    -0.447     0.73   \n",
       "\n",
       "            confusion_matrix  mean_squared_error  mean_absolute_error  \\\n",
       "0  [[1151, 301], [122, 244]]               0.233                0.233   \n",
       "\n",
       "   roc_auc_score  \n",
       "0       0.729683  "
      ]
     },
     "metadata": {},
     "output_type": "display_data"
    }
   ],
   "source": [
    "display(full_score_report(model=dtc_test, features=features_test, target=target_test, predictions=dtc_predict_test))"
   ]
  },
  {
   "cell_type": "markdown",
   "metadata": {},
   "source": [
    "After completing the upsampling, the Decision Tree Classifier had an f1 test score of 0.536 which occured with high recall of 0.667 and low precision of 0.448. This means this model is good at having fewer false negatives, but has many false positives. The Random Forest Classifier's f1 test score was 0.587 with a recall score of 0.546 and a precision score of 0.635. This means the random forest has more false negatives, and fewer false positives. In final, the decision needs downsampling to improve precision, but the random forest would likely need slightly higher upsampling to increase recall."
   ]
  },
  {
   "cell_type": "markdown",
   "metadata": {},
   "source": [
    "<div class=\"alert alert-success\">\n",
    "<b>Reviewer's comment</b>\n",
    "\n",
    "Upsampling was applied correctly! It's nice that you tuned the upsampling factor using the validation set!\n",
    "\n",
    "</div>"
   ]
  },
  {
   "cell_type": "markdown",
   "metadata": {},
   "source": [
    "#### Downsampling"
   ]
  },
  {
   "cell_type": "code",
   "execution_count": 45,
   "metadata": {},
   "outputs": [],
   "source": [
    "recall_scores = []\n",
    "precision_scores = []\n",
    "best_f1_rfr = 0\n",
    "best_f1_dtc = 0\n",
    "best_down_samp_rfr = 0\n",
    "best_down_samp_dtc = 0\n",
    "downsamples = [float(i) / 1000 for i in range(0, 1001, 2)]"
   ]
  },
  {
   "cell_type": "code",
   "execution_count": 46,
   "metadata": {},
   "outputs": [
    {
     "data": {
      "image/png": "[encoded data removed]",
      "text/plain": [
       "<Figure size 432x288 with 1 Axes>"
      ]
     },
     "metadata": {
      "needs_background": "light"
     },
     "output_type": "display_data"
    },
    {
     "data": {
      "text/html": [
       "<div>\n",
       "<style scoped>\n",
       "    .dataframe tbody tr th:only-of-type {\n",
       "        vertical-align: middle;\n",
       "    }\n",
       "\n",
       "    .dataframe tbody tr th {\n",
       "        vertical-align: top;\n",
       "    }\n",
       "\n",
       "    .dataframe thead th {\n",
       "        text-align: right;\n",
       "    }\n",
       "</style>\n",
       "<table border=\"1\" class=\"dataframe\">\n",
       "  <thead>\n",
       "    <tr style=\"text-align: right;\">\n",
       "      <th></th>\n",
       "      <th>accuracy</th>\n",
       "      <th>recall_score</th>\n",
       "      <th>precision</th>\n",
       "      <th>f1_score</th>\n",
       "      <th>r2_score</th>\n",
       "      <th>roc_auc</th>\n",
       "      <th>confusion_matrix</th>\n",
       "      <th>mean_squared_error</th>\n",
       "      <th>mean_absolute_error</th>\n",
       "      <th>roc_auc_score</th>\n",
       "    </tr>\n",
       "  </thead>\n",
       "  <tbody>\n",
       "    <tr>\n",
       "      <th>0</th>\n",
       "      <td>0.827927</td>\n",
       "      <td>0.637</td>\n",
       "      <td>0.568</td>\n",
       "      <td>0.6</td>\n",
       "      <td>-0.064</td>\n",
       "      <td>0.757</td>\n",
       "      <td>[[1271, 179], [134, 235]]</td>\n",
       "      <td>0.172</td>\n",
       "      <td>0.172</td>\n",
       "      <td>0.734126</td>\n",
       "    </tr>\n",
       "  </tbody>\n",
       "</table>\n",
       "</div>"
      ],
      "text/plain": [
       "   accuracy  recall_score  precision  f1_score  r2_score  roc_auc  \\\n",
       "0  0.827927         0.637      0.568       0.6    -0.064    0.757   \n",
       "\n",
       "            confusion_matrix  mean_squared_error  mean_absolute_error  \\\n",
       "0  [[1271, 179], [134, 235]]               0.172                0.172   \n",
       "\n",
       "   roc_auc_score  \n",
       "0       0.734126  "
      ]
     },
     "metadata": {},
     "output_type": "display_data"
    },
    {
     "data": {
      "text/plain": [
       "'Decision Tree Downsample Fraction:0.46'"
      ]
     },
     "metadata": {},
     "output_type": "display_data"
    }
   ],
   "source": [
    "for downsamp in downsamples:\n",
    "    rfr_model_down = RandomForestClassifier(**rfr_model.best_params_)\n",
    "    dtc_model_down = DecisionTreeClassifier(**dtc_model.best_params_)\n",
    "    \n",
    "    features_down_sample, target_down_sample = downsample(\n",
    "    features_train, target_train, downsamp)\n",
    "    \n",
    "    rfr_model_down.fit(features_down_sample, target_down_sample)\n",
    "    rfr_predict_valid = rfr_model_down.predict(features_valid)\n",
    "    \n",
    "    dtc_model_down.fit(features_down_sample, target_down_sample)\n",
    "    dtc_predict_valid = dtc_model_down.predict(features_valid)\n",
    "\n",
    "    if(((f1_score(target_valid,rfr_predict_valid) > best_f1_rfr) and (f1_score(target_valid,rfr_predict_valid) > 0.59)) or ((f1_score(target_valid,dtc_predict_valid) > best_f1_dtc) and (f1_score(target_valid,dtc_predict_valid) > 0.59))):\n",
    "        clear_output(wait=True)\n",
    "        if(f1_score(target_valid,rfr_predict_valid) > best_f1_rfr):\n",
    "            best_f1_rfr = f1_score(target_valid,rfr_predict_valid)        \n",
    "            display(full_score_report(model=rfr_model, features=features_valid, target=target_valid, predictions=rfr_predict_valid))\n",
    "            display('Random Forest Downsample Fraction:' + str(downsamp))\n",
    "            best_down_samp_rfr = downsamp\n",
    "        if(f1_score(target_valid,dtc_predict_valid) > best_f1_dtc):\n",
    "            best_f1_dtc = f1_score(target_valid,dtc_predict_valid)\n",
    "            display(full_score_report(model=dtc_model, features=features_valid, target=target_valid, predictions=dtc_predict_valid))\n",
    "            display('Decision Tree Downsample Fraction:' + str(downsamp))\n",
    "            best_down_samp_dtc = downsamp"
   ]
  },
  {
   "cell_type": "code",
   "execution_count": 47,
   "metadata": {},
   "outputs": [],
   "source": [
    "rfr_test = RandomForestClassifier(**rfr_model.best_params_)\n",
    "dtc_test = DecisionTreeClassifier(**dtc_model.best_params_)"
   ]
  },
  {
   "cell_type": "code",
   "execution_count": 48,
   "metadata": {},
   "outputs": [],
   "source": [
    "features_down_sample_rfr, target_down_sample_rfr = downsample(\n",
    "    features_train, target_train, best_down_samp_rfr)"
   ]
  },
  {
   "cell_type": "code",
   "execution_count": 49,
   "metadata": {},
   "outputs": [],
   "source": [
    "features_down_sample_dtc, target_down_sample_dtc = downsample(\n",
    "    features_train, target_train, best_down_samp_dtc)"
   ]
  },
  {
   "cell_type": "code",
   "execution_count": 50,
   "metadata": {},
   "outputs": [],
   "source": [
    "rfr_test.fit(features_down_sample_rfr, target_down_sample_rfr)\n",
    "rfr_predict_test = rfr_test.predict(features_test)"
   ]
  },
  {
   "cell_type": "code",
   "execution_count": 51,
   "metadata": {},
   "outputs": [],
   "source": [
    "dtc_test.fit(features_down_sample_dtc, target_down_sample_dtc)\n",
    "dtc_predict_test = dtc_test.predict(features_test)"
   ]
  },
  {
   "cell_type": "code",
   "execution_count": 52,
   "metadata": {},
   "outputs": [
    {
     "data": {
      "image/png": "[encoded data removed]",
      "text/plain": [
       "<Figure size 432x288 with 1 Axes>"
      ]
     },
     "metadata": {
      "needs_background": "light"
     },
     "output_type": "display_data"
    },
    {
     "data": {
      "text/html": [
       "<div>\n",
       "<style scoped>\n",
       "    .dataframe tbody tr th:only-of-type {\n",
       "        vertical-align: middle;\n",
       "    }\n",
       "\n",
       "    .dataframe tbody tr th {\n",
       "        vertical-align: top;\n",
       "    }\n",
       "\n",
       "    .dataframe thead th {\n",
       "        text-align: right;\n",
       "    }\n",
       "</style>\n",
       "<table border=\"1\" class=\"dataframe\">\n",
       "  <thead>\n",
       "    <tr style=\"text-align: right;\">\n",
       "      <th></th>\n",
       "      <th>accuracy</th>\n",
       "      <th>recall_score</th>\n",
       "      <th>precision</th>\n",
       "      <th>f1_score</th>\n",
       "      <th>r2_score</th>\n",
       "      <th>roc_auc</th>\n",
       "      <th>confusion_matrix</th>\n",
       "      <th>mean_squared_error</th>\n",
       "      <th>mean_absolute_error</th>\n",
       "      <th>roc_auc_score</th>\n",
       "    </tr>\n",
       "  </thead>\n",
       "  <tbody>\n",
       "    <tr>\n",
       "      <th>0</th>\n",
       "      <td>0.823432</td>\n",
       "      <td>0.596</td>\n",
       "      <td>0.558</td>\n",
       "      <td>0.576</td>\n",
       "      <td>-0.098</td>\n",
       "      <td>0.738</td>\n",
       "      <td>[[1279, 173], [148, 218]]</td>\n",
       "      <td>0.177</td>\n",
       "      <td>0.177</td>\n",
       "      <td>0.738241</td>\n",
       "    </tr>\n",
       "  </tbody>\n",
       "</table>\n",
       "</div>"
      ],
      "text/plain": [
       "   accuracy  recall_score  precision  f1_score  r2_score  roc_auc  \\\n",
       "0  0.823432         0.596      0.558     0.576    -0.098    0.738   \n",
       "\n",
       "            confusion_matrix  mean_squared_error  mean_absolute_error  \\\n",
       "0  [[1279, 173], [148, 218]]               0.177                0.177   \n",
       "\n",
       "   roc_auc_score  \n",
       "0       0.738241  "
      ]
     },
     "metadata": {},
     "output_type": "display_data"
    }
   ],
   "source": [
    "display(full_score_report(model=rfr_test, features=features_test, target=target_test, predictions=rfr_predict_test))"
   ]
  },
  {
   "cell_type": "code",
   "execution_count": 53,
   "metadata": {},
   "outputs": [
    {
     "data": {
      "text/plain": [
       "0.5815423514538559"
      ]
     },
     "metadata": {},
     "output_type": "display_data"
    }
   ],
   "source": [
    "display(f1_score(target_test, dtc_predict_test))"
   ]
  },
  {
   "cell_type": "code",
   "execution_count": 54,
   "metadata": {},
   "outputs": [
    {
     "data": {
      "text/plain": [
       "0.46"
      ]
     },
     "metadata": {},
     "output_type": "display_data"
    }
   ],
   "source": [
    "display(best_down_samp_dtc)"
   ]
  },
  {
   "cell_type": "code",
   "execution_count": 55,
   "metadata": {},
   "outputs": [
    {
     "data": {
      "image/png": "[encoded data removed]",
      "text/plain": [
       "<Figure size 432x288 with 1 Axes>"
      ]
     },
     "metadata": {
      "needs_background": "light"
     },
     "output_type": "display_data"
    },
    {
     "data": {
      "text/html": [
       "<div>\n",
       "<style scoped>\n",
       "    .dataframe tbody tr th:only-of-type {\n",
       "        vertical-align: middle;\n",
       "    }\n",
       "\n",
       "    .dataframe tbody tr th {\n",
       "        vertical-align: top;\n",
       "    }\n",
       "\n",
       "    .dataframe thead th {\n",
       "        text-align: right;\n",
       "    }\n",
       "</style>\n",
       "<table border=\"1\" class=\"dataframe\">\n",
       "  <thead>\n",
       "    <tr style=\"text-align: right;\">\n",
       "      <th></th>\n",
       "      <th>accuracy</th>\n",
       "      <th>recall_score</th>\n",
       "      <th>precision</th>\n",
       "      <th>f1_score</th>\n",
       "      <th>r2_score</th>\n",
       "      <th>roc_auc</th>\n",
       "      <th>confusion_matrix</th>\n",
       "      <th>mean_squared_error</th>\n",
       "      <th>mean_absolute_error</th>\n",
       "      <th>roc_auc_score</th>\n",
       "    </tr>\n",
       "  </thead>\n",
       "  <tbody>\n",
       "    <tr>\n",
       "      <th>0</th>\n",
       "      <td>0.817932</td>\n",
       "      <td>0.628</td>\n",
       "      <td>0.541</td>\n",
       "      <td>0.582</td>\n",
       "      <td>-0.132</td>\n",
       "      <td>0.747</td>\n",
       "      <td>[[1257, 195], [136, 230]]</td>\n",
       "      <td>0.182</td>\n",
       "      <td>0.182</td>\n",
       "      <td>0.747059</td>\n",
       "    </tr>\n",
       "  </tbody>\n",
       "</table>\n",
       "</div>"
      ],
      "text/plain": [
       "   accuracy  recall_score  precision  f1_score  r2_score  roc_auc  \\\n",
       "0  0.817932         0.628      0.541     0.582    -0.132    0.747   \n",
       "\n",
       "            confusion_matrix  mean_squared_error  mean_absolute_error  \\\n",
       "0  [[1257, 195], [136, 230]]               0.182                0.182   \n",
       "\n",
       "   roc_auc_score  \n",
       "0       0.747059  "
      ]
     },
     "metadata": {},
     "output_type": "display_data"
    }
   ],
   "source": [
    "display(full_score_report(model=dtc_test, features=features_test, target=target_test, predictions=dtc_predict_test))"
   ]
  },
  {
   "cell_type": "markdown",
   "metadata": {},
   "source": [
    "After completing the downsampling, the Decision Tree Classifier had an f1 test score of 0.582 which occured with high recall of 0.628 and low precision of 0.541. This means this model is good at having fewer false negatives, but has more false positives. The Random Forest Classifier's f1 test score was 0.576 with a recall score of 0.596 and a precision score of 0.558. This means the random forest is more balanced, but is slightly more common to have false positives, and fewer false negatives, but not by a lot. In final, both models would likely need higher upsampling to increase recall."
   ]
  },
  {
   "cell_type": "markdown",
   "metadata": {},
   "source": [
    "<div class=\"alert alert-success\">\n",
    "<b>Reviewer's comment</b>\n",
    "\n",
    "Downsampling was applied successfully!\n",
    "    \n",
    "    \n",
    "\n",
    "</div>"
   ]
  },
  {
   "cell_type": "markdown",
   "metadata": {},
   "source": [
    "<div class=\"alert alert-warning\">\n",
    "<b>Reviewer's comment</b>\n",
    "\n",
    "A couple of suggestions:\n",
    "    \n",
    "1. It looks like you tuned the models' hyperparameters only without any balancing. If you tune the model's hyperparameters with upsampling/downsampling, you might achieve even better results. Though you'd have to take care not to do cross-validation on already upsampled/downsampled data and instead apply it in each fold separately (e.g. using imblearn library with its [pipelines](https://imbalanced-learn.org/stable/references/generated/imblearn.pipeline.Pipeline.html#imblearn.pipeline.Pipeline))\n",
    "    \n",
    "2. I would leave the test set only for the final model evaluation, and compare the models using different balancing techniques using the validation set to avoid possibly overly optimistic test set score.\n",
    "\n",
    "</div>"
   ]
  },
  {
   "cell_type": "code",
   "execution_count": null,
   "metadata": {},
   "outputs": [],
   "source": []
  }
 ],
 "metadata": {
  "kernelspec": {
   "display_name": "Python 3 (ipykernel)",
   "language": "python",
   "name": "python3"
  },
  "language_info": {
   "codemirror_mode": {
    "name": "ipython",
    "version": 3
   },
   "file_extension": ".py",
   "mimetype": "text/x-python",
   "name": "python",
   "nbconvert_exporter": "python",
   "pygments_lexer": "ipython3",
   "version": "3.9.5"
  },
  "toc": {
   "base_numbering": 1,
   "nav_menu": {},
   "number_sections": true,
   "sideBar": true,
   "skip_h1_title": true,
   "title_cell": "Table of Contents",
   "title_sidebar": "Contents",
   "toc_cell": false,
   "toc_position": {},
   "toc_section_display": true,
   "toc_window_display": false
  }
 },
 "nbformat": 4,
 "nbformat_minor": 2
}
